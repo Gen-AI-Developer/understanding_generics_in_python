{
 "cells": [
  {
   "cell_type": "markdown",
   "id": "31a41e37",
   "metadata": {},
   "source": [
    "## Control Structure in Python"
   ]
  },
  {
   "cell_type": "code",
   "execution_count": 6,
   "id": "a7b59205",
   "metadata": {},
   "outputs": [
    {
     "name": "stdout",
     "output_type": "stream",
     "text": [
      "0\n",
      "x is zero\n",
      "1\n",
      "x is positive\n",
      "2\n",
      "x is positive\n",
      "3\n",
      "x is positive\n",
      "4\n",
      "x is positive\n"
     ]
    }
   ],
   "source": [
    "\n",
    "\n",
    "for x in range(5):\n",
    "    print(x)\n",
    "    if x > 0:\n",
    "        print(\"x is positive\")\n",
    "    elif x < 0:\n",
    "        print(\"x is negative\")\n",
    "    else:\n",
    "        print(\"x is zero\")"
   ]
  },
  {
   "cell_type": "markdown",
   "id": "8102f68e",
   "metadata": {},
   "source": [
    "## Classes and Objects in Python"
   ]
  },
  {
   "cell_type": "code",
   "execution_count": 7,
   "id": "7b432409",
   "metadata": {},
   "outputs": [
    {
     "name": "stdout",
     "output_type": "stream",
     "text": [
      "Hello, my name is Alice\n",
      "Hello, my name is Bob\n"
     ]
    }
   ],
   "source": [
    "class Person:\n",
    "    def __init__(self, name):\n",
    "        self.name = name\n",
    "\n",
    "    def say_hello(self):\n",
    "        print(f\"Hello, my name is {self.name}\")\n",
    "p = Person(\"Alice\")\n",
    "p.say_hello()\n",
    "p.name = \"Bob\"\n",
    "p.say_hello()"
   ]
  },
  {
   "cell_type": "code",
   "execution_count": 11,
   "id": "038a1d41",
   "metadata": {},
   "outputs": [
    {
     "name": "stdout",
     "output_type": "stream",
     "text": [
      "<class 'int'>\n",
      "1\n",
      "<class 'str'>\n",
      "a\n",
      "<class 'float'>\n",
      "1.1\n"
     ]
    }
   ],
   "source": [
    "from typing import List\n",
    "def first_element(l: List[int]) -> int: # Define a function that takes a list of T and returns a T\n",
    "    print(type(l[0])) # => type of the first element of the list\n",
    "    return l[0]\n",
    "print(first_element([1, 2, 3])) # => 1\n",
    "print(first_element(['a', 'b', 'c'])) # => 'a'\n",
    "print(first_element([1.1, 2.2, 3.3])) # => 1.1"
   ]
  },
  {
   "cell_type": "markdown",
   "id": "c59f4cc6",
   "metadata": {},
   "source": [
    "## Generics in Python\n",
    "-   Python's type hints enable support for generics, providing a way to specify flexible types for types for functions and classes.\n",
    "-   Generics in Python rely on the __typing__ module, allowing for more explicit type declarations.\n",
    "-   Common generics types include\n",
    "  ```\n",
    "  List[T],\n",
    "  Dict[T,V],\n",
    "  Tuple[T, ...],\n",
    "  ```\n",
    "- where T,K, and V are type variables."
   ]
  },
  {
   "cell_type": "code",
   "execution_count": 12,
   "id": "0b23bd53",
   "metadata": {},
   "outputs": [
    {
     "name": "stdout",
     "output_type": "stream",
     "text": [
      "1\n",
      "a\n",
      "1.1\n",
      "True\n",
      "Apple\n"
     ]
    }
   ],
   "source": [
    "from typing import List, TypeVar\n",
    "T = TypeVar('T') # Define a generic type variable T\n",
    "def first_element(l: List[T]) -> T: # Define a function that takes a list of T and returns a T\n",
    "    return l[0]\n",
    "print(first_element([1, 2, 3])) # => 1\n",
    "print(first_element(['a', 'b', 'c'])) # => 'a'\n",
    "print(first_element([1.1, 2.2, 3.3])) # => 1.1\n",
    "print(first_element([True, False])) # => True\n",
    "print(first_element(['Apple','Banana','Mango'])) # => 1"
   ]
  },
  {
   "cell_type": "markdown",
   "id": "03daced6",
   "metadata": {},
   "source": [
    "### Example : Generic Class in Python\n",
    "-   A generic container class to store and retrieve any data type."
   ]
  },
  {
   "cell_type": "code",
   "execution_count": 15,
   "id": "e012db3c",
   "metadata": {},
   "outputs": [
    {
     "name": "stdout",
     "output_type": "stream",
     "text": [
      "42\n",
      "forty two\n"
     ]
    }
   ],
   "source": [
    "from typing import TypeVar, Generic\n",
    "T = TypeVar('T') # Declare type variable\n",
    "\n",
    "class Container(Generic[T]):\n",
    "    def __init__(self, value: T):\n",
    "        self.value = value\n",
    "    def get_value(self) -> T:\n",
    "        return self.value\n",
    "#Usage\n",
    "int_container = Container[int](42)\n",
    "str_container = Container[str]('forty two')\n",
    "\n",
    "#Usage\n",
    "int_container = Container(42)\n",
    "str_container = Container('forty two')\n",
    "\n",
    "print(int_container.get_value()) # => 42\n",
    "print(str_container.get_value()) # => 'forty two'"
   ]
  },
  {
   "cell_type": "markdown",
   "id": "b232e0d6",
   "metadata": {},
   "source": [
    "### Example : Generic Function with Dictionary in Python\n",
    "-   A function to merge two dictionaries with generic keys and values"
   ]
  },
  {
   "cell_type": "code",
   "execution_count": 17,
   "id": "6d41b3d9",
   "metadata": {},
   "outputs": [
    {
     "name": "stdout",
     "output_type": "stream",
     "text": [
      "{'a': 1, 'b': 3, 'c': 4}\n",
      "{1: 'Apple', 2: 'Banana', 3: 'Mango', 4: 'Orange', 5: 'Grapes'}\n"
     ]
    }
   ],
   "source": [
    "from typing import Dict, TypeVar\n",
    "K = TypeVar('K') # Key type\n",
    "V = TypeVar('V') # Value type\n",
    "\n",
    "def merge_dictionaries(dict1: Dict[K, V], dict2: Dict[K, V]) -> Dict[K, V]:\n",
    "    \"\"\"\n",
    "    Merge two dictionaries into a new dictionary.\n",
    "\n",
    "    This function takes two dictionaries as input and returns a new dictionary\n",
    "    containing all key-value pairs from both input dictionaries. If a key exists\n",
    "    in both dictionaries, the value from dict2 will be used in the merged dictionary.\n",
    "\n",
    "    Args:\n",
    "        dict1 (Dict[K, V]): The first input dictionary.\n",
    "        dict2 (Dict[K, V]): The second input dictionary.\n",
    "\n",
    "    Returns:\n",
    "        Dict[K, V]: A new dictionary containing all key-value pairs from both input dictionaries.\n",
    "\n",
    "    Example:\n",
    "        >>> merge_dictionaries({'a': 1, 'b': 2}, {'b': 3, 'c': 4})\n",
    "        {'a': 1, 'b': 3, 'c': 4}\n",
    "    \"\"\"\n",
    "    merged = dict1.copy()\n",
    "    merged.update(dict2)\n",
    "    return merged\n",
    "\n",
    "dict_a = {'a': 1, 'b': 2}\n",
    "dict_b = {'b': 3, 'c': 4}\n",
    "print(merge_dictionaries(dict_a, dict_b)) # => {'a': 1, 'b': 3, 'c': 4}\n",
    "dict_furits_a = { 1:'Apple', 2:'Banana',3:'Mango'}\n",
    "dict_furits_b = { 3:'Mango', 4:'Orange',5:'Grapes'}\n",
    "print(merge_dictionaries(dict_furits_a, dict_furits_b)) # => {'Apple': 1, 'Banana': 3, 'Mango': 4}  \n",
    "\n"
   ]
  }
 ],
 "metadata": {
  "kernelspec": {
   "display_name": "Python 3",
   "language": "python",
   "name": "python3"
  },
  "language_info": {
   "codemirror_mode": {
    "name": "ipython",
    "version": 3
   },
   "file_extension": ".py",
   "mimetype": "text/x-python",
   "name": "python",
   "nbconvert_exporter": "python",
   "pygments_lexer": "ipython3",
   "version": "3.12.4"
  }
 },
 "nbformat": 4,
 "nbformat_minor": 5
}
